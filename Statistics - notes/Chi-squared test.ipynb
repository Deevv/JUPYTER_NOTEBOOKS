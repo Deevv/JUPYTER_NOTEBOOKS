{
 "cells": [
  {
   "cell_type": "code",
   "execution_count": 2,
   "metadata": {
    "collapsed": true
   },
   "outputs": [],
   "source": [
    "female_diff = (10771 - 16280.5) / 16280.5\n",
    "male_diff = (21790 - 16280.5) / 16280.5"
   ]
  },
  {
   "cell_type": "code",
   "execution_count": 3,
   "metadata": {},
   "outputs": [
    {
     "data": {
      "text/plain": [
       "-0.33841098246368356"
      ]
     },
     "execution_count": 3,
     "metadata": {},
     "output_type": "execute_result"
    }
   ],
   "source": [
    "female_diff"
   ]
  },
  {
   "cell_type": "code",
   "execution_count": 4,
   "metadata": {},
   "outputs": [
    {
     "data": {
      "text/plain": [
       "0.33841098246368356"
      ]
     },
     "execution_count": 4,
     "metadata": {},
     "output_type": "execute_result"
    }
   ],
   "source": [
    "male_diff"
   ]
  },
  {
   "cell_type": "code",
   "execution_count": 5,
   "metadata": {},
   "outputs": [
    {
     "data": {
      "text/plain": [
       "3728.950615767329"
      ]
     },
     "execution_count": 5,
     "metadata": {},
     "output_type": "execute_result"
    }
   ],
   "source": [
    "female_diff = (10771 - 16280.5) ** 2 / 16280.5\n",
    "male_diff = (21790 - 16280.5) ** 2 / 16280.5\n",
    "gender_chisq = female_diff + male_diff\n",
    "gender_chisq"
   ]
  },
  {
   "cell_type": "markdown",
   "metadata": {},
   "source": [
    "### Sampling"
   ]
  },
  {
   "cell_type": "code",
   "execution_count": 44,
   "metadata": {
    "collapsed": true
   },
   "outputs": [],
   "source": [
    "%matplotlib inline\n",
    "from numpy.random import random\n",
    "import matplotlib.pyplot as plt"
   ]
  },
  {
   "cell_type": "code",
   "execution_count": 78,
   "metadata": {
    "scrolled": false
   },
   "outputs": [
    {
     "data": {
      "text/plain": [
       "(array([ 673.,  181.,   71.,   35.,   26.,    7.,    2.,    3.,    1.,    1.]),\n",
       " array([  1.53557937e-05,   5.58364301e-01,   1.11671325e+00,\n",
       "          1.67506219e+00,   2.23341114e+00,   2.79176008e+00,\n",
       "          3.35010903e+00,   3.90845797e+00,   4.46680692e+00,\n",
       "          5.02515586e+00,   5.58350481e+00]),\n",
       " <a list of 10 Patch objects>)"
      ]
     },
     "execution_count": 78,
     "metadata": {},
     "output_type": "execute_result"
    },
    {
     "data": {
      "image/png": "[encoded data removed]",
      "text/plain": [
       "<matplotlib.figure.Figure at 0x24a63b7d0b8>"
      ]
     },
     "metadata": {},
     "output_type": "display_data"
    }
   ],
   "source": [
    "chi_squared_values = []\n",
    "for i in range(1000):\n",
    "    random_list = np.random.randint(0,2,32561)\n",
    "    males = ((random_list == 0).sum() - (len(random_list)/2)) ** 2/ len(random_list)\n",
    "    females = ((random_list == 1).sum() - (len(random_list)/2)) ** 2/ len(random_list)\n",
    "    chi_squared_values.append(males + females)\n",
    "plt.hist(chi_squared_values)"
   ]
  },
  {
   "cell_type": "code",
   "execution_count": 80,
   "metadata": {},
   "outputs": [
    {
     "data": {
      "text/plain": [
       "(array([ 736.,  145.,   65.,   26.,   17.,    8.,    2.,    0.,    0.,    1.]),\n",
       " array([  3.07115875e-05,   1.22284328e+00,   2.44565585e+00,\n",
       "          3.66846841e+00,   4.89128098e+00,   6.11409355e+00,\n",
       "          7.33690611e+00,   8.55971868e+00,   9.78253125e+00,\n",
       "          1.10053438e+01,   1.22281564e+01]),\n",
       " <a list of 10 Patch objects>)"
      ]
     },
     "execution_count": 80,
     "metadata": {},
     "output_type": "execute_result"
    },
    {
     "data": {
      "image/png": "[encoded data removed]",
      "text/plain": [
       "<matplotlib.figure.Figure at 0x24a63c855c0>"
      ]
     },
     "metadata": {},
     "output_type": "display_data"
    }
   ],
   "source": [
    "chi_squared_values = []\n",
    "from numpy.random import random\n",
    "import matplotlib.pyplot as plt\n",
    "\n",
    "for i in range(1000):\n",
    "    sequence = random((32561,))\n",
    "    sequence[sequence < .5] = 0\n",
    "    sequence[sequence >= .5] = 1\n",
    "    male_count = len(sequence[sequence == 0])\n",
    "    female_count = len(sequence[sequence == 1])\n",
    "    male_diff = (male_count - 16280.5) ** 2 / 16280.5\n",
    "    female_diff = (female_count - 16280.5) ** 2 / 16280.5\n",
    "    chi_squared = male_diff + female_diff\n",
    "    chi_squared_values.append(chi_squared)\n",
    "\n",
    "plt.hist(chi_squared_values)"
   ]
  },
  {
   "cell_type": "code",
   "execution_count": null,
   "metadata": {
    "collapsed": true
   },
   "outputs": [],
   "source": []
  }
 ],
 "metadata": {
  "kernelspec": {
   "display_name": "Python 3",
   "language": "python",
   "name": "python3"
  },
  "language_info": {
   "codemirror_mode": {
    "name": "ipython",
    "version": 3
   },
   "file_extension": ".py",
   "mimetype": "text/x-python",
   "name": "python",
   "nbconvert_exporter": "python",
   "pygments_lexer": "ipython3",
   "version": "3.6.0"
  }
 },
 "nbformat": 4,
 "nbformat_minor": 2
}
